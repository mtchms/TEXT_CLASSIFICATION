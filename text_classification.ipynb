{
 "cells": [
  {
   "cell_type": "markdown",
   "metadata": {},
   "source": [
    "# Проект по классификации текстов"
   ]
  },
  {
   "cell_type": "markdown",
   "metadata": {},
   "source": [
    "***Цель:*** Обучить модель классифицировать комментарии на позитивные и негативные.\n",
    "\n",
    "Значением метрики качества *F1* должно быть не меньше 0.75. \n",
    "\n",
    "**Описание данных**\n",
    "\n",
    "Данные находятся в файле `toxic_comments.csv`. Столбец *text* в нём содержит текст комментария, а *toxic* — целевой признак."
   ]
  },
  {
   "cell_type": "markdown",
   "metadata": {},
   "source": [
    "## Подготовка"
   ]
  },
  {
   "cell_type": "code",
   "execution_count": 1,
   "metadata": {},
   "outputs": [],
   "source": [
    "import pandas as pd\n",
    "import numpy as np\n",
    "import re\n",
    "import nltk\n",
    "import matplotlib.pyplot as plt\n",
    "from sklearn.model_selection import train_test_split\n",
    "from sklearn.feature_extraction.text import TfidfVectorizer\n",
    "from sklearn.linear_model import LogisticRegression\n",
    "from sklearn.metrics import f1_score\n",
    "from nltk.corpus import stopwords \n",
    "from lightgbm import LGBMClassifier\n",
    "from sklearn.pipeline import make_pipeline\n",
    "from nltk.stem import WordNetLemmatizer \n",
    "from sklearn.pipeline import Pipeline\n",
    "from nltk.tokenize import word_tokenize \n",
    "from sklearn.model_selection import RandomizedSearchCV\n",
    "import spacy\n",
    "import warnings\n",
    "from tqdm import notebook"
   ]
  },
  {
   "cell_type": "code",
   "execution_count": 2,
   "metadata": {},
   "outputs": [],
   "source": [
    "warnings.filterwarnings(\"ignore\")"
   ]
  },
  {
   "cell_type": "markdown",
   "metadata": {},
   "source": [
    "Прочту данные, а также проверю пропуски и дубликаты."
   ]
  },
  {
   "cell_type": "code",
   "execution_count": 3,
   "metadata": {},
   "outputs": [
    {
     "name": "stderr",
     "output_type": "stream",
     "text": [
      "[nltk_data] Downloading package stopwords to /home/jovyan/nltk_data...\n",
      "[nltk_data]   Package stopwords is already up-to-date!\n"
     ]
    },
    {
     "data": {
      "text/plain": [
       "True"
      ]
     },
     "execution_count": 3,
     "metadata": {},
     "output_type": "execute_result"
    }
   ],
   "source": [
    "nltk.download(\"stopwords\")"
   ]
  },
  {
   "cell_type": "code",
   "execution_count": 4,
   "metadata": {},
   "outputs": [],
   "source": [
    "data = pd.read_csv('/datasets/toxic_comments.csv', index_col = 0)"
   ]
  },
  {
   "cell_type": "code",
   "execution_count": 5,
   "metadata": {},
   "outputs": [
    {
     "name": "stdout",
     "output_type": "stream",
     "text": [
      "<class 'pandas.core.frame.DataFrame'>\n",
      "Int64Index: 159292 entries, 0 to 159450\n",
      "Data columns (total 2 columns):\n",
      " #   Column  Non-Null Count   Dtype \n",
      "---  ------  --------------   ----- \n",
      " 0   text    159292 non-null  object\n",
      " 1   toxic   159292 non-null  int64 \n",
      "dtypes: int64(1), object(1)\n",
      "memory usage: 3.6+ MB\n"
     ]
    }
   ],
   "source": [
    "data.info()"
   ]
  },
  {
   "cell_type": "code",
   "execution_count": 6,
   "metadata": {},
   "outputs": [
    {
     "data": {
      "text/plain": [
       "text     0\n",
       "toxic    0\n",
       "dtype: int64"
      ]
     },
     "execution_count": 6,
     "metadata": {},
     "output_type": "execute_result"
    }
   ],
   "source": [
    "data.isna().sum()"
   ]
  },
  {
   "cell_type": "code",
   "execution_count": 7,
   "metadata": {
    "scrolled": true
   },
   "outputs": [
    {
     "data": {
      "text/html": [
       "<div>\n",
       "<style scoped>\n",
       "    .dataframe tbody tr th:only-of-type {\n",
       "        vertical-align: middle;\n",
       "    }\n",
       "\n",
       "    .dataframe tbody tr th {\n",
       "        vertical-align: top;\n",
       "    }\n",
       "\n",
       "    .dataframe thead th {\n",
       "        text-align: right;\n",
       "    }\n",
       "</style>\n",
       "<table border=\"1\" class=\"dataframe\">\n",
       "  <thead>\n",
       "    <tr style=\"text-align: right;\">\n",
       "      <th></th>\n",
       "      <th>text</th>\n",
       "      <th>toxic</th>\n",
       "    </tr>\n",
       "  </thead>\n",
       "  <tbody>\n",
       "    <tr>\n",
       "      <th>0</th>\n",
       "      <td>Explanation\\nWhy the edits made under my usern...</td>\n",
       "      <td>0</td>\n",
       "    </tr>\n",
       "    <tr>\n",
       "      <th>1</th>\n",
       "      <td>D'aww! He matches this background colour I'm s...</td>\n",
       "      <td>0</td>\n",
       "    </tr>\n",
       "    <tr>\n",
       "      <th>2</th>\n",
       "      <td>Hey man, I'm really not trying to edit war. It...</td>\n",
       "      <td>0</td>\n",
       "    </tr>\n",
       "    <tr>\n",
       "      <th>3</th>\n",
       "      <td>\"\\nMore\\nI can't make any real suggestions on ...</td>\n",
       "      <td>0</td>\n",
       "    </tr>\n",
       "    <tr>\n",
       "      <th>4</th>\n",
       "      <td>You, sir, are my hero. Any chance you remember...</td>\n",
       "      <td>0</td>\n",
       "    </tr>\n",
       "  </tbody>\n",
       "</table>\n",
       "</div>"
      ],
      "text/plain": [
       "                                                text  toxic\n",
       "0  Explanation\\nWhy the edits made under my usern...      0\n",
       "1  D'aww! He matches this background colour I'm s...      0\n",
       "2  Hey man, I'm really not trying to edit war. It...      0\n",
       "3  \"\\nMore\\nI can't make any real suggestions on ...      0\n",
       "4  You, sir, are my hero. Any chance you remember...      0"
      ]
     },
     "execution_count": 7,
     "metadata": {},
     "output_type": "execute_result"
    }
   ],
   "source": [
    "data.head()"
   ]
  },
  {
   "cell_type": "code",
   "execution_count": 8,
   "metadata": {},
   "outputs": [
    {
     "data": {
      "text/plain": [
       "0"
      ]
     },
     "execution_count": 8,
     "metadata": {},
     "output_type": "execute_result"
    }
   ],
   "source": [
    "data.duplicated().sum()"
   ]
  },
  {
   "cell_type": "code",
   "execution_count": 9,
   "metadata": {
    "scrolled": true
   },
   "outputs": [
    {
     "data": {
      "text/plain": [
       "0"
      ]
     },
     "execution_count": 9,
     "metadata": {},
     "output_type": "execute_result"
    }
   ],
   "source": [
    "data['text'].duplicated().sum()"
   ]
  },
  {
   "cell_type": "markdown",
   "metadata": {},
   "source": [
    "Напишу функцию для очистки и лемматизации текста:"
   ]
  },
  {
   "cell_type": "code",
   "execution_count": 10,
   "metadata": {},
   "outputs": [],
   "source": [
    "nlp = spacy.load(\"en_core_web_sm\")\n",
    "\n",
    "def lemmatize(text):\n",
    "    cleaned = re.sub(r'[^a-zA-Z ]', ' ', text)\n",
    "    lowered = cleaned.lower()\n",
    "\n",
    "    doc = nlp(lowered)\n",
    "    lemmatized = [token.lemma_ for token in doc if not token.is_stop and not token.is_punct]\n",
    "\n",
    "    return ' '.join(lemmatized)"
   ]
  },
  {
   "cell_type": "code",
   "execution_count": 11,
   "metadata": {},
   "outputs": [],
   "source": [
    "data['lemm_text'] = data['text'].apply(lemmatize)"
   ]
  },
  {
   "cell_type": "markdown",
   "metadata": {},
   "source": [
    "Данные обработаны, можно приступать к обучению."
   ]
  },
  {
   "cell_type": "markdown",
   "metadata": {},
   "source": [
    "## Обучение"
   ]
  },
  {
   "cell_type": "markdown",
   "metadata": {},
   "source": [
    "Разобью данные на выборки, после чего создам два словаря гиперпараметров - для логистической регрессии и градиентного бустинга, также напишу функцию для кросс-валидации модели с помощью RandomizedSearchCV, в этой же функции воспользуюсь TfidfVectorizer."
   ]
  },
  {
   "cell_type": "code",
   "execution_count": 12,
   "metadata": {},
   "outputs": [],
   "source": [
    "X = data.drop(['toxic'], axis=1)\n",
    "y = data['toxic']\n",
    "X_train, X_test, y_train, y_test = train_test_split(X, y, test_size=0.2, stratify=y)"
   ]
  },
  {
   "cell_type": "code",
   "execution_count": 13,
   "metadata": {},
   "outputs": [],
   "source": [
    "lgbm_param_grid = {\n",
    "    'lgbmclassifier__num_leaves': [31, 50],\n",
    "    'lgbmclassifier__learning_rate': [0.1, 0.01, 0.005]\n",
    "}\n",
    "\n",
    "logreg_param_grid = {\n",
    "    'logisticregression__C': [0.1, 1, 10],\n",
    "    'logisticregression__penalty': ['l2'],\n",
    "    'logisticregression__solver': ['lbfgs', 'liblinear'],\n",
    "    'logisticregression__max_iter': [100, 200, 500]\n",
    "}\n"
   ]
  },
  {
   "cell_type": "code",
   "execution_count": 14,
   "metadata": {},
   "outputs": [],
   "source": [
    "def train_model(estimator, hyper_grid):\n",
    "    \n",
    "    pipeline = make_pipeline(TfidfVectorizer(), estimator)\n",
    "    search = RandomizedSearchCV(pipeline, hyper_grid, cv=5, n_jobs=-1, scoring='f1')\n",
    "    search.fit(X_train['lemm_text'], y_train)\n",
    "    \n",
    "    return search"
   ]
  },
  {
   "cell_type": "markdown",
   "metadata": {},
   "source": [
    "***В ячейке ниже очень ресурсоемкая операция, которая заняла несколько часов***"
   ]
  },
  {
   "cell_type": "code",
   "execution_count": 15,
   "metadata": {
    "scrolled": true
   },
   "outputs": [
    {
     "data": {
      "text/plain": [
       "{'logisticregression__solver': 'lbfgs',\n",
       " 'logisticregression__penalty': 'l2',\n",
       " 'logisticregression__max_iter': 100,\n",
       " 'logisticregression__C': 10}"
      ]
     },
     "execution_count": 15,
     "metadata": {},
     "output_type": "execute_result"
    }
   ],
   "source": [
    "logreg_model = train_model(LogisticRegression(random_state=42), logreg_param_grid)\n",
    "logreg_model.best_params_"
   ]
  },
  {
   "cell_type": "code",
   "execution_count": 16,
   "metadata": {},
   "outputs": [
    {
     "data": {
      "text/plain": [
       "0.7758537044195486"
      ]
     },
     "execution_count": 16,
     "metadata": {},
     "output_type": "execute_result"
    }
   ],
   "source": [
    "logreg_model.best_score_"
   ]
  },
  {
   "cell_type": "markdown",
   "metadata": {},
   "source": [
    "***В ячейке ниже очень ресурсоемкая операция, которая заняла несколько часов***"
   ]
  },
  {
   "cell_type": "code",
   "execution_count": 17,
   "metadata": {},
   "outputs": [
    {
     "data": {
      "text/plain": [
       "{'lgbmclassifier__num_leaves': 50, 'lgbmclassifier__learning_rate': 0.1}"
      ]
     },
     "execution_count": 17,
     "metadata": {},
     "output_type": "execute_result"
    }
   ],
   "source": [
    "lgbm_model = train_model(LGBMClassifier(random_state=42), lgbm_param_grid)\n",
    "lgbm_model.best_params_"
   ]
  },
  {
   "cell_type": "code",
   "execution_count": 18,
   "metadata": {},
   "outputs": [
    {
     "data": {
      "text/plain": [
       "0.7638098902175064"
      ]
     },
     "execution_count": 18,
     "metadata": {},
     "output_type": "execute_result"
    }
   ],
   "source": [
    "lgbm_model.best_score_"
   ]
  },
  {
   "cell_type": "code",
   "execution_count": 19,
   "metadata": {},
   "outputs": [
    {
     "data": {
      "text/plain": [
       "array([82.98655715, 45.54704695, 11.76418047,  8.43668714, 24.16673045,\n",
       "       24.18126183, 23.86407442,  8.36855731,  8.57626266, 46.49646544])"
      ]
     },
     "execution_count": 19,
     "metadata": {},
     "output_type": "execute_result"
    }
   ],
   "source": [
    "logreg_model.cv_results_['mean_fit_time']"
   ]
  },
  {
   "cell_type": "code",
   "execution_count": 20,
   "metadata": {},
   "outputs": [
    {
     "data": {
      "text/plain": [
       "array([148.30674934, 192.13748765, 164.8950345 , 215.36172519,\n",
       "       144.31836829, 228.26971722])"
      ]
     },
     "execution_count": 20,
     "metadata": {},
     "output_type": "execute_result"
    }
   ],
   "source": [
    "lgbm_model.cv_results_['mean_fit_time']"
   ]
  },
  {
   "cell_type": "markdown",
   "metadata": {},
   "source": [
    "Лучшую метрику f1_score показала логистическая регрессия ~ 0.775. Градиентный бустинг показал результат чуть хуже и его обучение занимает значительно больше времени."
   ]
  },
  {
   "cell_type": "markdown",
   "metadata": {},
   "source": [
    "Проверю лучшую модель на тестовой выборке:"
   ]
  },
  {
   "cell_type": "code",
   "execution_count": 23,
   "metadata": {},
   "outputs": [
    {
     "data": {
      "text/plain": [
       "0.7749740753543035"
      ]
     },
     "execution_count": 23,
     "metadata": {},
     "output_type": "execute_result"
    }
   ],
   "source": [
    "f1_score(y_test, logreg_model.predict(X_test['lemm_text']))"
   ]
  },
  {
   "cell_type": "markdown",
   "metadata": {},
   "source": [
    "Модель показала отличный f1_score равный 0.77."
   ]
  },
  {
   "cell_type": "markdown",
   "metadata": {},
   "source": [
    "## Выводы"
   ]
  },
  {
   "cell_type": "markdown",
   "metadata": {},
   "source": [
    "В рамках проекта по классификации комментариев данные были лемматизированы с помощью WordNetLemmatizer, этот лемматизатор позволяет эффективно работать с текстами на английском языке. Была проведена кросс-валидация модели градиентного бустинга и логистической регрессии. На тестовой выборке лучшую F1‑меру ~ 0.77 показала логистическая регрессия. Это решение позволяет эффективно выделять токсичные комментарии для их последующей модерации, снижая нагрузку на модераторов."
   ]
  },
  {
   "cell_type": "code",
   "execution_count": null,
   "metadata": {},
   "outputs": [],
   "source": []
  }
 ],
 "metadata": {
  "ExecuteTimeLog": [
   {
    "duration": 398,
    "start_time": "2025-04-12T11:13:55.703Z"
   },
   {
    "duration": 970,
    "start_time": "2025-04-12T12:20:21.594Z"
   },
   {
    "duration": 14,
    "start_time": "2025-04-12T12:20:29.473Z"
   },
   {
    "duration": 31,
    "start_time": "2025-04-12T12:21:10.446Z"
   },
   {
    "duration": 28,
    "start_time": "2025-04-12T12:21:16.784Z"
   },
   {
    "duration": 32,
    "start_time": "2025-04-12T12:21:24.068Z"
   },
   {
    "duration": 32,
    "start_time": "2025-04-12T12:25:30.972Z"
   },
   {
    "duration": 28,
    "start_time": "2025-04-12T12:25:43.932Z"
   },
   {
    "duration": 7,
    "start_time": "2025-04-12T12:25:44.277Z"
   },
   {
    "duration": 61,
    "start_time": "2025-04-12T12:26:04.875Z"
   },
   {
    "duration": 230,
    "start_time": "2025-04-12T12:26:12.937Z"
   },
   {
    "duration": 76,
    "start_time": "2025-04-12T12:26:26.445Z"
   },
   {
    "duration": 196,
    "start_time": "2025-04-12T12:26:39.750Z"
   },
   {
    "duration": 31,
    "start_time": "2025-04-12T12:26:40.019Z"
   },
   {
    "duration": 5,
    "start_time": "2025-04-12T12:27:01.882Z"
   },
   {
    "duration": 901,
    "start_time": "2025-04-12T15:42:52.814Z"
   },
   {
    "duration": 32,
    "start_time": "2025-04-12T15:42:53.717Z"
   },
   {
    "duration": 32,
    "start_time": "2025-04-12T15:42:53.761Z"
   },
   {
    "duration": 6,
    "start_time": "2025-04-12T15:42:53.796Z"
   },
   {
    "duration": 236,
    "start_time": "2025-04-12T15:42:53.804Z"
   },
   {
    "duration": 79,
    "start_time": "2025-04-12T15:42:54.042Z"
   },
   {
    "duration": 1442,
    "start_time": "2025-04-12T15:43:44.124Z"
   },
   {
    "duration": 297,
    "start_time": "2025-04-12T15:45:12.645Z"
   },
   {
    "duration": 67944,
    "start_time": "2025-04-12T15:45:13.020Z"
   },
   {
    "duration": 119,
    "start_time": "2025-04-12T15:46:20.966Z"
   },
   {
    "duration": 424,
    "start_time": "2025-04-12T15:54:45.741Z"
   },
   {
    "duration": 951,
    "start_time": "2025-04-12T15:54:46.167Z"
   },
   {
    "duration": 41,
    "start_time": "2025-04-12T15:54:47.120Z"
   },
   {
    "duration": 32,
    "start_time": "2025-04-12T15:54:47.163Z"
   },
   {
    "duration": 8,
    "start_time": "2025-04-12T15:54:47.197Z"
   },
   {
    "duration": 238,
    "start_time": "2025-04-12T15:54:47.207Z"
   },
   {
    "duration": 79,
    "start_time": "2025-04-12T15:54:47.447Z"
   },
   {
    "duration": 1174,
    "start_time": "2025-04-12T15:54:47.528Z"
   },
   {
    "duration": 130,
    "start_time": "2025-04-12T15:54:48.704Z"
   },
   {
    "duration": 68845,
    "start_time": "2025-04-12T15:54:48.836Z"
   },
   {
    "duration": 124,
    "start_time": "2025-04-12T15:55:57.683Z"
   },
   {
    "duration": 4,
    "start_time": "2025-04-12T15:55:57.809Z"
   },
   {
    "duration": 422,
    "start_time": "2025-04-12T15:59:49.532Z"
   },
   {
    "duration": 936,
    "start_time": "2025-04-12T15:59:49.961Z"
   },
   {
    "duration": 31,
    "start_time": "2025-04-12T15:59:50.899Z"
   },
   {
    "duration": 46,
    "start_time": "2025-04-12T15:59:50.931Z"
   },
   {
    "duration": 8,
    "start_time": "2025-04-12T15:59:50.979Z"
   },
   {
    "duration": 302,
    "start_time": "2025-04-12T15:59:50.989Z"
   },
   {
    "duration": 77,
    "start_time": "2025-04-12T15:59:51.293Z"
   },
   {
    "duration": 1176,
    "start_time": "2025-04-12T15:59:51.372Z"
   },
   {
    "duration": 207,
    "start_time": "2025-04-12T15:59:52.550Z"
   },
   {
    "duration": 69162,
    "start_time": "2025-04-12T15:59:52.759Z"
   },
   {
    "duration": 125,
    "start_time": "2025-04-12T16:01:01.923Z"
   },
   {
    "duration": 10,
    "start_time": "2025-04-12T16:01:02.050Z"
   },
   {
    "duration": 436,
    "start_time": "2025-04-12T16:01:19.543Z"
   },
   {
    "duration": 961,
    "start_time": "2025-04-12T16:01:19.981Z"
   },
   {
    "duration": 40,
    "start_time": "2025-04-12T16:01:20.944Z"
   },
   {
    "duration": 34,
    "start_time": "2025-04-12T16:01:20.985Z"
   },
   {
    "duration": 60,
    "start_time": "2025-04-12T16:01:21.021Z"
   },
   {
    "duration": 222,
    "start_time": "2025-04-12T16:01:21.083Z"
   },
   {
    "duration": 80,
    "start_time": "2025-04-12T16:01:21.307Z"
   },
   {
    "duration": 1190,
    "start_time": "2025-04-12T16:01:21.388Z"
   },
   {
    "duration": 127,
    "start_time": "2025-04-12T16:01:22.579Z"
   },
   {
    "duration": 68206,
    "start_time": "2025-04-12T16:01:22.708Z"
   },
   {
    "duration": 117,
    "start_time": "2025-04-12T16:02:30.916Z"
   },
   {
    "duration": 4,
    "start_time": "2025-04-12T16:02:31.035Z"
   },
   {
    "duration": 150120,
    "start_time": "2025-04-12T16:02:31.040Z"
   },
   {
    "duration": 280699,
    "start_time": "2025-04-12T16:05:01.163Z"
   },
   {
    "duration": 6,
    "start_time": "2025-04-12T17:46:16.539Z"
   },
   {
    "duration": 62,
    "start_time": "2025-04-12T17:48:13.164Z"
   },
   {
    "duration": 4,
    "start_time": "2025-04-12T17:54:49.221Z"
   },
   {
    "duration": 373,
    "start_time": "2025-04-12T17:57:18.969Z"
   },
   {
    "duration": 931,
    "start_time": "2025-04-12T17:57:29.313Z"
   },
   {
    "duration": 293,
    "start_time": "2025-04-12T17:57:45.188Z"
   },
   {
    "duration": 4,
    "start_time": "2025-04-12T17:59:14.665Z"
   },
   {
    "duration": 144,
    "start_time": "2025-04-12T17:59:18.301Z"
   },
   {
    "duration": 5,
    "start_time": "2025-04-12T17:59:22.518Z"
   },
   {
    "duration": 20,
    "start_time": "2025-04-12T18:01:54.872Z"
   },
   {
    "duration": 5,
    "start_time": "2025-04-12T18:02:13.593Z"
   },
   {
    "duration": 99,
    "start_time": "2025-04-12T18:02:13.939Z"
   },
   {
    "duration": 17,
    "start_time": "2025-04-12T18:02:14.503Z"
   },
   {
    "duration": 1314,
    "start_time": "2025-04-12T18:03:25.781Z"
   },
   {
    "duration": 951,
    "start_time": "2025-04-12T18:04:34.781Z"
   },
   {
    "duration": 28,
    "start_time": "2025-04-12T18:05:00.549Z"
   },
   {
    "duration": 1596,
    "start_time": "2025-04-12T18:05:29.148Z"
   },
   {
    "duration": 3,
    "start_time": "2025-04-12T18:05:30.745Z"
   },
   {
    "duration": 205,
    "start_time": "2025-04-12T18:05:30.750Z"
   },
   {
    "duration": 890,
    "start_time": "2025-04-12T18:05:30.957Z"
   },
   {
    "duration": 120,
    "start_time": "2025-04-12T18:05:31.848Z"
   },
   {
    "duration": 29,
    "start_time": "2025-04-12T18:05:31.969Z"
   },
   {
    "duration": 8,
    "start_time": "2025-04-12T18:05:31.999Z"
   },
   {
    "duration": 242,
    "start_time": "2025-04-12T18:05:32.009Z"
   },
   {
    "duration": 77,
    "start_time": "2025-04-12T18:05:32.261Z"
   },
   {
    "duration": 73,
    "start_time": "2025-04-12T18:05:32.340Z"
   },
   {
    "duration": 67104,
    "start_time": "2025-04-12T18:05:32.414Z"
   },
   {
    "duration": 2206,
    "start_time": "2025-04-12T18:06:39.519Z"
   },
   {
    "duration": 0,
    "start_time": "2025-04-12T18:06:41.727Z"
   },
   {
    "duration": 0,
    "start_time": "2025-04-12T18:06:41.728Z"
   },
   {
    "duration": 0,
    "start_time": "2025-04-12T18:06:41.729Z"
   },
   {
    "duration": 0,
    "start_time": "2025-04-12T18:06:41.730Z"
   },
   {
    "duration": 0,
    "start_time": "2025-04-12T18:06:41.731Z"
   },
   {
    "duration": 0,
    "start_time": "2025-04-12T18:06:41.732Z"
   },
   {
    "duration": 113,
    "start_time": "2025-04-12T18:08:11.446Z"
   },
   {
    "duration": 4,
    "start_time": "2025-04-12T18:08:21.420Z"
   },
   {
    "duration": 20,
    "start_time": "2025-04-12T18:08:23.986Z"
   },
   {
    "duration": 3,
    "start_time": "2025-04-12T18:09:17.920Z"
   },
   {
    "duration": 18,
    "start_time": "2025-04-12T18:09:19.644Z"
   },
   {
    "duration": 3,
    "start_time": "2025-04-12T18:09:30.338Z"
   },
   {
    "duration": 14,
    "start_time": "2025-04-12T18:09:31.870Z"
   },
   {
    "duration": 4,
    "start_time": "2025-04-12T18:09:42.833Z"
   },
   {
    "duration": 15,
    "start_time": "2025-04-12T18:09:44.230Z"
   },
   {
    "duration": 4,
    "start_time": "2025-04-12T18:10:01.246Z"
   },
   {
    "duration": 17,
    "start_time": "2025-04-12T18:10:02.782Z"
   },
   {
    "duration": 3,
    "start_time": "2025-04-12T18:10:58.008Z"
   },
   {
    "duration": 16,
    "start_time": "2025-04-12T18:10:59.716Z"
   },
   {
    "duration": 3,
    "start_time": "2025-04-12T18:11:16.876Z"
   },
   {
    "duration": 16,
    "start_time": "2025-04-12T18:11:18.605Z"
   },
   {
    "duration": 4,
    "start_time": "2025-04-12T18:11:42.299Z"
   },
   {
    "duration": 15,
    "start_time": "2025-04-12T18:11:43.891Z"
   },
   {
    "duration": 4,
    "start_time": "2025-04-12T18:11:56.508Z"
   },
   {
    "duration": 14,
    "start_time": "2025-04-12T18:11:57.755Z"
   },
   {
    "duration": 4,
    "start_time": "2025-04-12T18:12:23.447Z"
   },
   {
    "duration": 4,
    "start_time": "2025-04-12T18:12:25.991Z"
   },
   {
    "duration": 896,
    "start_time": "2025-04-12T18:12:27.310Z"
   },
   {
    "duration": 3,
    "start_time": "2025-04-12T18:13:18.142Z"
   },
   {
    "duration": 283106,
    "start_time": "2025-04-12T18:13:19.756Z"
   },
   {
    "duration": 1972,
    "start_time": "2025-04-13T14:23:16.287Z"
   },
   {
    "duration": 4,
    "start_time": "2025-04-13T14:23:18.261Z"
   },
   {
    "duration": 310,
    "start_time": "2025-04-13T14:23:18.267Z"
   },
   {
    "duration": 944,
    "start_time": "2025-04-13T14:23:18.578Z"
   },
   {
    "duration": 39,
    "start_time": "2025-04-13T14:23:19.524Z"
   },
   {
    "duration": 27,
    "start_time": "2025-04-13T14:23:19.565Z"
   },
   {
    "duration": 9,
    "start_time": "2025-04-13T14:23:19.594Z"
   },
   {
    "duration": 269,
    "start_time": "2025-04-13T14:23:19.605Z"
   },
   {
    "duration": 86,
    "start_time": "2025-04-13T14:23:19.876Z"
   },
   {
    "duration": 4,
    "start_time": "2025-04-13T14:23:19.963Z"
   },
   {
    "duration": 11,
    "start_time": "2025-04-13T14:23:19.969Z"
   },
   {
    "duration": 182,
    "start_time": "2025-04-13T14:23:19.982Z"
   },
   {
    "duration": 0,
    "start_time": "2025-04-13T14:23:20.166Z"
   },
   {
    "duration": 0,
    "start_time": "2025-04-13T14:23:20.167Z"
   },
   {
    "duration": 0,
    "start_time": "2025-04-13T14:23:20.168Z"
   },
   {
    "duration": 0,
    "start_time": "2025-04-13T14:23:20.169Z"
   },
   {
    "duration": 1654,
    "start_time": "2025-04-13T14:23:35.652Z"
   },
   {
    "duration": 4,
    "start_time": "2025-04-13T14:23:37.308Z"
   },
   {
    "duration": 134,
    "start_time": "2025-04-13T14:23:37.314Z"
   },
   {
    "duration": 927,
    "start_time": "2025-04-13T14:23:37.450Z"
   },
   {
    "duration": 123,
    "start_time": "2025-04-13T14:23:38.379Z"
   },
   {
    "duration": 34,
    "start_time": "2025-04-13T14:23:38.504Z"
   },
   {
    "duration": 25,
    "start_time": "2025-04-13T14:23:38.540Z"
   },
   {
    "duration": 249,
    "start_time": "2025-04-13T14:23:38.567Z"
   },
   {
    "duration": 84,
    "start_time": "2025-04-13T14:23:38.818Z"
   },
   {
    "duration": 4,
    "start_time": "2025-04-13T14:23:38.904Z"
   },
   {
    "duration": 28,
    "start_time": "2025-04-13T14:23:38.910Z"
   },
   {
    "duration": 1708,
    "start_time": "2025-04-13T14:27:05.663Z"
   },
   {
    "duration": 3,
    "start_time": "2025-04-13T14:27:07.373Z"
   },
   {
    "duration": 197,
    "start_time": "2025-04-13T14:27:07.377Z"
   },
   {
    "duration": 927,
    "start_time": "2025-04-13T14:27:07.576Z"
   },
   {
    "duration": 119,
    "start_time": "2025-04-13T14:27:08.506Z"
   },
   {
    "duration": 38,
    "start_time": "2025-04-13T14:27:08.627Z"
   },
   {
    "duration": 16,
    "start_time": "2025-04-13T14:27:08.667Z"
   },
   {
    "duration": 258,
    "start_time": "2025-04-13T14:27:08.685Z"
   },
   {
    "duration": 84,
    "start_time": "2025-04-13T14:27:08.945Z"
   },
   {
    "duration": 38,
    "start_time": "2025-04-13T14:27:09.038Z"
   },
   {
    "duration": 11,
    "start_time": "2025-04-13T14:27:09.078Z"
   },
   {
    "duration": 1739,
    "start_time": "2025-04-13T14:28:07.307Z"
   },
   {
    "duration": 3,
    "start_time": "2025-04-13T14:28:09.048Z"
   },
   {
    "duration": 220,
    "start_time": "2025-04-13T14:28:09.053Z"
   },
   {
    "duration": 912,
    "start_time": "2025-04-13T14:28:09.275Z"
   },
   {
    "duration": 125,
    "start_time": "2025-04-13T14:28:10.191Z"
   },
   {
    "duration": 37,
    "start_time": "2025-04-13T14:28:10.318Z"
   },
   {
    "duration": 17,
    "start_time": "2025-04-13T14:28:10.357Z"
   },
   {
    "duration": 249,
    "start_time": "2025-04-13T14:28:10.375Z"
   },
   {
    "duration": 89,
    "start_time": "2025-04-13T14:28:10.626Z"
   },
   {
    "duration": 4,
    "start_time": "2025-04-13T14:28:10.717Z"
   },
   {
    "duration": 18,
    "start_time": "2025-04-13T14:28:10.722Z"
   },
   {
    "duration": 90703,
    "start_time": "2025-04-13T14:28:10.742Z"
   },
   {
    "duration": 114,
    "start_time": "2025-04-13T14:29:41.447Z"
   },
   {
    "duration": 4,
    "start_time": "2025-04-13T14:29:41.563Z"
   },
   {
    "duration": 307118,
    "start_time": "2025-04-13T14:29:41.569Z"
   },
   {
    "duration": 332754,
    "start_time": "2025-04-13T14:34:48.689Z"
   },
   {
    "duration": 1857,
    "start_time": "2025-04-13T14:43:56.856Z"
   },
   {
    "duration": 0,
    "start_time": "2025-04-13T14:43:58.715Z"
   },
   {
    "duration": 0,
    "start_time": "2025-04-13T14:43:58.717Z"
   },
   {
    "duration": 0,
    "start_time": "2025-04-13T14:43:58.718Z"
   },
   {
    "duration": 0,
    "start_time": "2025-04-13T14:43:58.719Z"
   },
   {
    "duration": 0,
    "start_time": "2025-04-13T14:43:58.720Z"
   },
   {
    "duration": 0,
    "start_time": "2025-04-13T14:43:58.721Z"
   },
   {
    "duration": 0,
    "start_time": "2025-04-13T14:43:58.738Z"
   },
   {
    "duration": 0,
    "start_time": "2025-04-13T14:43:58.739Z"
   },
   {
    "duration": 0,
    "start_time": "2025-04-13T14:43:58.740Z"
   },
   {
    "duration": 0,
    "start_time": "2025-04-13T14:43:58.741Z"
   },
   {
    "duration": 0,
    "start_time": "2025-04-13T14:43:58.743Z"
   },
   {
    "duration": 0,
    "start_time": "2025-04-13T14:43:58.744Z"
   },
   {
    "duration": 0,
    "start_time": "2025-04-13T14:43:58.745Z"
   },
   {
    "duration": 0,
    "start_time": "2025-04-13T14:43:58.746Z"
   },
   {
    "duration": 0,
    "start_time": "2025-04-13T14:43:58.747Z"
   },
   {
    "duration": 1757,
    "start_time": "2025-04-13T14:44:18.335Z"
   },
   {
    "duration": 3,
    "start_time": "2025-04-13T14:44:20.094Z"
   },
   {
    "duration": 538,
    "start_time": "2025-04-13T14:44:20.099Z"
   },
   {
    "duration": 949,
    "start_time": "2025-04-13T14:44:20.639Z"
   },
   {
    "duration": 48,
    "start_time": "2025-04-13T14:44:21.590Z"
   },
   {
    "duration": 28,
    "start_time": "2025-04-13T14:44:21.640Z"
   },
   {
    "duration": 13,
    "start_time": "2025-04-13T14:44:21.670Z"
   },
   {
    "duration": 253,
    "start_time": "2025-04-13T14:44:21.685Z"
   },
   {
    "duration": 80,
    "start_time": "2025-04-13T14:44:21.940Z"
   },
   {
    "duration": 17,
    "start_time": "2025-04-13T14:44:22.022Z"
   },
   {
    "duration": 76405,
    "start_time": "2025-04-13T14:44:22.041Z"
   },
   {
    "duration": 119,
    "start_time": "2025-04-13T14:45:38.447Z"
   },
   {
    "duration": 4,
    "start_time": "2025-04-13T14:45:38.567Z"
   },
   {
    "duration": 6,
    "start_time": "2025-04-13T14:45:38.574Z"
   },
   {
    "duration": 149,
    "start_time": "2025-04-13T14:45:38.582Z"
   },
   {
    "duration": 0,
    "start_time": "2025-04-13T14:45:38.733Z"
   },
   {
    "duration": 5,
    "start_time": "2025-04-13T14:56:26.879Z"
   },
   {
    "duration": 4,
    "start_time": "2025-04-13T14:56:31.428Z"
   },
   {
    "duration": 67,
    "start_time": "2025-04-13T14:56:31.784Z"
   },
   {
    "duration": 54,
    "start_time": "2025-04-13T14:56:35.242Z"
   },
   {
    "duration": 3,
    "start_time": "2025-04-13T14:58:13.751Z"
   },
   {
    "duration": 3,
    "start_time": "2025-04-13T14:58:14.862Z"
   },
   {
    "duration": 1779,
    "start_time": "2025-04-13T15:08:46.046Z"
   },
   {
    "duration": 3,
    "start_time": "2025-04-13T15:08:47.827Z"
   },
   {
    "duration": 131,
    "start_time": "2025-04-13T15:08:47.832Z"
   },
   {
    "duration": 993,
    "start_time": "2025-04-13T15:08:47.965Z"
   },
   {
    "duration": 36,
    "start_time": "2025-04-13T15:08:48.960Z"
   },
   {
    "duration": 53,
    "start_time": "2025-04-13T15:08:48.998Z"
   },
   {
    "duration": 9,
    "start_time": "2025-04-13T15:08:49.053Z"
   },
   {
    "duration": 255,
    "start_time": "2025-04-13T15:08:49.064Z"
   },
   {
    "duration": 86,
    "start_time": "2025-04-13T15:08:49.320Z"
   },
   {
    "duration": 10,
    "start_time": "2025-04-13T15:08:49.407Z"
   },
   {
    "duration": 82061,
    "start_time": "2025-04-13T15:08:49.419Z"
   },
   {
    "duration": 125,
    "start_time": "2025-04-13T15:10:11.482Z"
   },
   {
    "duration": 3,
    "start_time": "2025-04-13T15:10:11.609Z"
   },
   {
    "duration": 54,
    "start_time": "2025-04-13T15:10:11.615Z"
   },
   {
    "duration": 139,
    "start_time": "2025-04-13T15:10:11.671Z"
   },
   {
    "duration": 0,
    "start_time": "2025-04-13T15:10:11.812Z"
   },
   {
    "duration": 4,
    "start_time": "2025-04-13T15:11:06.162Z"
   },
   {
    "duration": 3,
    "start_time": "2025-04-13T15:11:06.477Z"
   },
   {
    "duration": 1251669,
    "start_time": "2025-04-13T15:11:07.098Z"
   },
   {
    "duration": 5751602,
    "start_time": "2025-04-13T15:31:58.769Z"
   },
   {
    "duration": 0,
    "start_time": "2025-04-13T17:07:50.373Z"
   },
   {
    "duration": 0,
    "start_time": "2025-04-13T17:07:50.374Z"
   },
   {
    "duration": 4,
    "start_time": "2025-04-13T17:07:56.571Z"
   },
   {
    "duration": 4,
    "start_time": "2025-04-13T17:08:17.982Z"
   },
   {
    "duration": 15796392,
    "start_time": "2025-04-13T17:08:20.584Z"
   },
   {
    "duration": 4,
    "start_time": "2025-04-13T21:31:36.978Z"
   },
   {
    "duration": 90,
    "start_time": "2025-04-14T11:08:38.793Z"
   },
   {
    "duration": 42,
    "start_time": "2025-04-14T11:08:38.884Z"
   },
   {
    "duration": 33,
    "start_time": "2025-04-14T11:08:43.683Z"
   },
   {
    "duration": 13,
    "start_time": "2025-04-14T11:12:01.509Z"
   },
   {
    "duration": 4,
    "start_time": "2025-04-14T11:12:14.393Z"
   },
   {
    "duration": 4,
    "start_time": "2025-04-14T11:12:48.721Z"
   },
   {
    "duration": 5,
    "start_time": "2025-04-14T11:16:24.303Z"
   },
   {
    "duration": 4,
    "start_time": "2025-04-14T11:16:43.629Z"
   },
   {
    "duration": 4,
    "start_time": "2025-04-14T14:21:33.970Z"
   },
   {
    "duration": 8,
    "start_time": "2025-04-14T17:29:57.463Z"
   },
   {
    "duration": 5,
    "start_time": "2025-04-14T18:38:46.865Z"
   },
   {
    "duration": 25,
    "start_time": "2025-04-14T18:41:32.950Z"
   },
   {
    "duration": 7,
    "start_time": "2025-04-14T18:49:10.425Z"
   },
   {
    "duration": 7,
    "start_time": "2025-04-14T18:49:26.226Z"
   },
   {
    "duration": 6,
    "start_time": "2025-04-14T18:49:48.257Z"
   },
   {
    "duration": 8,
    "start_time": "2025-04-14T18:50:28.758Z"
   },
   {
    "duration": 9,
    "start_time": "2025-04-14T18:50:42.635Z"
   },
   {
    "duration": 10,
    "start_time": "2025-04-14T18:51:27.177Z"
   },
   {
    "duration": 4,
    "start_time": "2025-04-14T18:51:32.761Z"
   },
   {
    "duration": 3,
    "start_time": "2025-04-14T18:52:21.977Z"
   },
   {
    "duration": 8,
    "start_time": "2025-04-14T18:52:40.831Z"
   },
   {
    "duration": 3,
    "start_time": "2025-04-14T18:54:27.490Z"
   },
   {
    "duration": 22,
    "start_time": "2025-04-14T18:54:32.060Z"
   },
   {
    "duration": 7,
    "start_time": "2025-04-14T18:54:51.187Z"
   },
   {
    "duration": 3,
    "start_time": "2025-04-14T18:55:09.194Z"
   },
   {
    "duration": 7,
    "start_time": "2025-04-14T18:55:12.379Z"
   },
   {
    "duration": 4,
    "start_time": "2025-04-14T18:55:21.182Z"
   },
   {
    "duration": 12,
    "start_time": "2025-04-14T18:56:02.156Z"
   },
   {
    "duration": 1125,
    "start_time": "2025-04-14T18:57:45.301Z"
   },
   {
    "duration": 981,
    "start_time": "2025-04-14T18:58:21.847Z"
   },
   {
    "duration": 4,
    "start_time": "2025-04-14T19:00:42.579Z"
   },
   {
    "duration": 62,
    "start_time": "2025-04-14T19:01:47.444Z"
   },
   {
    "duration": 0,
    "start_time": "2025-04-14T19:01:47.508Z"
   },
   {
    "duration": 0,
    "start_time": "2025-04-14T19:01:47.509Z"
   },
   {
    "duration": 0,
    "start_time": "2025-04-14T19:01:47.511Z"
   },
   {
    "duration": 1,
    "start_time": "2025-04-14T19:01:47.511Z"
   },
   {
    "duration": 0,
    "start_time": "2025-04-14T19:01:47.512Z"
   },
   {
    "duration": 0,
    "start_time": "2025-04-14T19:01:47.514Z"
   },
   {
    "duration": 0,
    "start_time": "2025-04-14T19:01:47.515Z"
   },
   {
    "duration": 0,
    "start_time": "2025-04-14T19:01:47.516Z"
   },
   {
    "duration": 0,
    "start_time": "2025-04-14T19:01:47.517Z"
   },
   {
    "duration": 0,
    "start_time": "2025-04-14T19:01:47.519Z"
   },
   {
    "duration": 0,
    "start_time": "2025-04-14T19:01:47.519Z"
   },
   {
    "duration": 0,
    "start_time": "2025-04-14T19:01:47.521Z"
   },
   {
    "duration": 0,
    "start_time": "2025-04-14T19:01:47.522Z"
   },
   {
    "duration": 0,
    "start_time": "2025-04-14T19:01:47.523Z"
   },
   {
    "duration": 0,
    "start_time": "2025-04-14T19:01:47.524Z"
   },
   {
    "duration": 0,
    "start_time": "2025-04-14T19:01:47.525Z"
   },
   {
    "duration": 0,
    "start_time": "2025-04-14T19:01:47.526Z"
   },
   {
    "duration": 0,
    "start_time": "2025-04-14T19:01:47.527Z"
   },
   {
    "duration": 0,
    "start_time": "2025-04-14T19:01:47.527Z"
   },
   {
    "duration": 0,
    "start_time": "2025-04-14T19:01:47.528Z"
   },
   {
    "duration": 4442,
    "start_time": "2025-04-14T19:02:09.787Z"
   },
   {
    "duration": 6,
    "start_time": "2025-04-14T19:02:14.232Z"
   },
   {
    "duration": 228,
    "start_time": "2025-04-14T19:02:14.239Z"
   },
   {
    "duration": 988,
    "start_time": "2025-04-14T19:02:14.469Z"
   },
   {
    "duration": 35,
    "start_time": "2025-04-14T19:02:15.459Z"
   },
   {
    "duration": 46,
    "start_time": "2025-04-14T19:02:15.495Z"
   },
   {
    "duration": 38,
    "start_time": "2025-04-14T19:02:15.543Z"
   },
   {
    "duration": 256,
    "start_time": "2025-04-14T19:02:15.582Z"
   },
   {
    "duration": 80,
    "start_time": "2025-04-14T19:02:15.839Z"
   },
   {
    "duration": 556,
    "start_time": "2025-04-14T19:02:15.921Z"
   },
   {
    "duration": 2569015,
    "start_time": "2025-04-14T19:02:16.478Z"
   },
   {
    "duration": 118,
    "start_time": "2025-04-14T19:45:05.495Z"
   },
   {
    "duration": 4,
    "start_time": "2025-04-14T19:45:05.615Z"
   },
   {
    "duration": 42,
    "start_time": "2025-04-14T19:45:05.621Z"
   },
   {
    "duration": 1512281,
    "start_time": "2025-04-14T19:45:05.664Z"
   },
   {
    "duration": 4,
    "start_time": "2025-04-14T20:10:17.947Z"
   },
   {
    "duration": 5814516,
    "start_time": "2025-04-14T20:10:17.952Z"
   },
   {
    "duration": 4,
    "start_time": "2025-04-14T21:47:12.469Z"
   },
   {
    "duration": 6,
    "start_time": "2025-04-14T21:47:12.475Z"
   },
   {
    "duration": 5,
    "start_time": "2025-04-14T21:47:12.483Z"
   },
   {
    "duration": 890,
    "start_time": "2025-04-14T21:47:12.490Z"
   },
   {
    "duration": 895,
    "start_time": "2025-04-15T14:55:45.717Z"
   },
   {
    "duration": 931,
    "start_time": "2025-04-15T16:28:22.103Z"
   },
   {
    "duration": 6,
    "start_time": "2025-04-15T17:41:38.778Z"
   },
   {
    "duration": 6,
    "start_time": "2025-04-15T17:44:00.483Z"
   },
   {
    "duration": 5,
    "start_time": "2025-04-15T17:58:16.598Z"
   }
  ],
  "kernelspec": {
   "display_name": "Python 3 (ipykernel)",
   "language": "python",
   "name": "python3"
  },
  "language_info": {
   "codemirror_mode": {
    "name": "ipython",
    "version": 3
   },
   "file_extension": ".py",
   "mimetype": "text/x-python",
   "name": "python",
   "nbconvert_exporter": "python",
   "pygments_lexer": "ipython3",
   "version": "3.12.5"
  },
  "toc": {
   "base_numbering": 1,
   "nav_menu": {},
   "number_sections": true,
   "sideBar": true,
   "skip_h1_title": true,
   "title_cell": "Содержание",
   "title_sidebar": "Contents",
   "toc_cell": true,
   "toc_position": {
    "height": "calc(100% - 180px)",
    "left": "10px",
    "top": "150px",
    "width": "302.391px"
   },
   "toc_section_display": true,
   "toc_window_display": false
  }
 },
 "nbformat": 4,
 "nbformat_minor": 4
}
